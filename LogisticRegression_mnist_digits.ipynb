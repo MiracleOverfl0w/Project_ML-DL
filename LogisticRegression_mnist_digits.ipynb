{
  "nbformat": 4,
  "nbformat_minor": 0,
  "metadata": {
    "colab": {
      "provenance": [],
      "authorship_tag": "ABX9TyPwmaPphFdgUyg61k++nELi",
      "include_colab_link": true
    },
    "kernelspec": {
      "name": "python3",
      "display_name": "Python 3"
    },
    "language_info": {
      "name": "python"
    }
  },
  "cells": [
    {
      "cell_type": "markdown",
      "metadata": {
        "id": "view-in-github",
        "colab_type": "text"
      },
      "source": [
        "<a href=\"https://colab.research.google.com/github/MiracleOverfl0w/Project_ML-DL/blob/main/LogisticRegression_mnist_digits.ipynb\" target=\"_parent\"><img src=\"https://colab.research.google.com/assets/colab-badge.svg\" alt=\"Open In Colab\"/></a>"
      ]
    },
    {
      "cell_type": "code",
      "source": [
        "import pandas as pd\n",
        "import numpy as np\n",
        "from sklearn.linear_model import LogisticRegression, LinearRegression\n",
        "from sklearn.metrics import accuracy_score, confusion_matrix\n",
        "import matplotlib.pyplot as plt"
      ],
      "metadata": {
        "id": "FVHoVYzYfbMA"
      },
      "execution_count": null,
      "outputs": []
    },
    {
      "cell_type": "code",
      "source": [
        "\n",
        "data_train = pd.read_csv(\"drive/MyDrive/mnist_train.csv\")\n",
        "data_test = pd.read_csv(\"drive/MyDrive/mnist_test.csv\")\n",
        "\n",
        "x_train = data_train.iloc[0:,0:784].to_numpy()\n",
        "y_train = data_train['5'].to_numpy()\n",
        "y_train_clf\n",
        "\n",
        "x_test = data_test.iloc[0:,0:784].to_numpy()\n",
        "y_test_clf = (y_test==1)"
      ],
      "metadata": {
        "id": "UNiMs9JAfgsl"
      },
      "execution_count": null,
      "outputs": []
    },
    {
      "cell_type": "code",
      "source": [
        "y_test"
      ],
      "metadata": {
        "colab": {
          "base_uri": "https://localhost:8080/"
        },
        "collapsed": true,
        "id": "zvtSk6SF41m6",
        "outputId": "4d43d3c9-ee0e-4a1e-9dae-998812ef3b36"
      },
      "execution_count": null,
      "outputs": [
        {
          "output_type": "execute_result",
          "data": {
            "text/plain": [
              "array([2, 1, 0, ..., 4, 5, 6])"
            ]
          },
          "metadata": {},
          "execution_count": 136
        }
      ]
    },
    {
      "cell_type": "code",
      "source": [
        "ClassifierModel = LogisticRegression()\n",
        "ClassifierModel.fit(x_train_clf,y_train_clf)"
      ],
      "metadata": {
        "collapsed": true,
        "id": "R6d2Il6n3WqY"
      },
      "execution_count": null,
      "outputs": []
    }
  ]
}